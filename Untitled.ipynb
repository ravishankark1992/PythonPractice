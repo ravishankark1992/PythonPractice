{
 "cells": [
  {
   "cell_type": "code",
   "execution_count": 1,
   "id": "8b611eca-cb48-46d0-8bde-9530c0331e4a",
   "metadata": {},
   "outputs": [],
   "source": [
    "inp='sdfbalnnool'"
   ]
  },
  {
   "cell_type": "code",
   "execution_count": 2,
   "id": "2e273341-d6c0-4198-a581-a2c15fb7a5cf",
   "metadata": {},
   "outputs": [],
   "source": [
    "from collections import Counter, defaultdict\n"
   ]
  },
  {
   "cell_type": "code",
   "execution_count": 3,
   "id": "3d426f55-64fd-4063-9806-715de09a1c7d",
   "metadata": {},
   "outputs": [],
   "source": [
    "y = defaultdict()"
   ]
  },
  {
   "cell_type": "code",
   "execution_count": 4,
   "id": "5f6f5474-010a-4b9f-8d55-822b01680934",
   "metadata": {},
   "outputs": [
    {
     "ename": "NameError",
     "evalue": "name 'x' is not defined",
     "output_type": "error",
     "traceback": [
      "\u001b[0;31m---------------------------------------------------------------------------\u001b[0m",
      "\u001b[0;31mNameError\u001b[0m                                 Traceback (most recent call last)",
      "Cell \u001b[0;32mIn[4], line 1\u001b[0m\n\u001b[0;32m----> 1\u001b[0m y\u001b[38;5;241m=\u001b[39mCounter(\u001b[43mx\u001b[49m)\n",
      "\u001b[0;31mNameError\u001b[0m: name 'x' is not defined"
     ]
    }
   ],
   "source": [
    "y=Counter(x)"
   ]
  },
  {
   "cell_type": "code",
   "execution_count": null,
   "id": "ab1e682f-a187-4d98-9144-29bd48c262ca",
   "metadata": {},
   "outputs": [
    {
     "ename": "TypeError",
     "evalue": "'collections.defaultdict' object is not callable",
     "output_type": "error",
     "traceback": [
      "\u001b[0;31m---------------------------------------------------------------------------\u001b[0m",
      "\u001b[0;31mTypeError\u001b[0m                                 Traceback (most recent call last)",
      "Cell \u001b[0;32mIn[20], line 1\u001b[0m\n\u001b[0;32m----> 1\u001b[0m \u001b[43my\u001b[49m\u001b[43m(\u001b[49m\u001b[43mx\u001b[49m\u001b[43m)\u001b[49m\n",
      "\u001b[0;31mTypeError\u001b[0m: 'collections.defaultdict' object is not callable"
     ]
    }
   ],
   "source": [
    "y(x)"
   ]
  },
  {
   "cell_type": "code",
   "execution_count": null,
   "id": "ff2951a0-562f-442b-b3f3-0b5324430dd8",
   "metadata": {},
   "outputs": [],
   "source": [
    "lookup=['b', 'a', 'l', 'o', 'n']\n",
    "for c in lookup:\n",
    "    if not c in inp:\n",
    "        print(c)\n",
    "count = Counter(inp)\n",
    "out = min(count['b'], count['a'], count['l']//2, count['o']//2,count['n'])"
   ]
  },
  {
   "cell_type": "code",
   "execution_count": null,
   "id": "6f8d9f7d-2cb6-40c7-b208-5a7210d73f81",
   "metadata": {},
   "outputs": [
    {
     "data": {
      "text/plain": [
       "Counter({'l': 2, 'n': 2, 'o': 2, 's': 1, 'd': 1, 'f': 1, 'b': 1, 'a': 1})"
      ]
     },
     "execution_count": 11,
     "metadata": {},
     "output_type": "execute_result"
    }
   ],
   "source": [
    "y"
   ]
  },
  {
   "cell_type": "code",
   "execution_count": null,
   "id": "e034ea60-5641-4bf3-bf65-1f1835c97a66",
   "metadata": {},
   "outputs": [
    {
     "data": {
      "text/plain": [
       "2"
      ]
     },
     "execution_count": 16,
     "metadata": {},
     "output_type": "execute_result"
    }
   ],
   "source": [
    "y['n']"
   ]
  },
  {
   "cell_type": "code",
   "execution_count": null,
   "id": "959a0473-1488-4d53-886b-e55cba08c07e",
   "metadata": {},
   "outputs": [
    {
     "data": {
      "text/plain": [
       "1"
      ]
     },
     "execution_count": 28,
     "metadata": {},
     "output_type": "execute_result"
    }
   ],
   "source": [
    "out"
   ]
  },
  {
   "cell_type": "code",
   "execution_count": 26,
   "id": "364550bb-b108-4b4d-bcfb-fc9017f89207",
   "metadata": {},
   "outputs": [],
   "source": [
    "grid=[[4,3,8,4],[9,5,1,9],[2,7,6,2], [2,7,6,2]]"
   ]
  },
  {
   "cell_type": "code",
   "execution_count": 29,
   "id": "aaaabc42",
   "metadata": {},
   "outputs": [],
   "source": [
    "grid=grid[:3]\n",
    "mx=[row[:3] for row in grid]"
   ]
  },
  {
   "cell_type": "code",
   "execution_count": 35,
   "id": "bec52385",
   "metadata": {},
   "outputs": [
    {
     "data": {
      "text/plain": [
       "[4, 9, 2]"
      ]
     },
     "execution_count": 35,
     "metadata": {},
     "output_type": "execute_result"
    }
   ],
   "source": [
    " [i[0] for i in mx]"
   ]
  },
  {
   "cell_type": "code",
   "execution_count": null,
   "id": "db33e28f",
   "metadata": {},
   "outputs": [],
   "source": []
  }
 ],
 "metadata": {
  "kernelspec": {
   "display_name": "Python 3 (ipykernel)",
   "language": "python",
   "name": "python3"
  },
  "language_info": {
   "codemirror_mode": {
    "name": "ipython",
    "version": 3
   },
   "file_extension": ".py",
   "mimetype": "text/x-python",
   "name": "python",
   "nbconvert_exporter": "python",
   "pygments_lexer": "ipython3",
   "version": "3.9.18"
  }
 },
 "nbformat": 4,
 "nbformat_minor": 5
}
